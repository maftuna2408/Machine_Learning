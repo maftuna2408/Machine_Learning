{
 "cells": [
  {
   "cell_type": "markdown",
   "metadata": {},
   "source": [
    "### Discretization va Binning Misollar"
   ]
  },
  {
   "cell_type": "markdown",
   "metadata": {},
   "source": [
    "#### 1️⃣ Equal-Width Binning (Bir xil kenglikdagi binlar)"
   ]
  },
  {
   "cell_type": "code",
   "execution_count": 1,
   "metadata": {},
   "outputs": [
    {
     "name": "stdout",
     "output_type": "stream",
     "text": [
      "   Values  Bins\n",
      "0       5     1\n",
      "1      12     1\n",
      "2      15     1\n",
      "3      22     2\n",
      "4      24     2\n",
      "5      27     2\n",
      "6      35     2\n",
      "7      40     3\n",
      "8      50     3\n",
      "9      55     4\n"
     ]
    }
   ],
   "source": [
    "import numpy as np\n",
    "import pandas as pd\n",
    "\n",
    "# Ma'lumotlar\n",
    "data = np.array([5, 12, 15, 22, 24, 27, 35, 40, 50, 55])\n",
    "\n",
    "# 3 ta bin hosil qilamiz\n",
    "bins = np.linspace(min(data), max(data), num=4)  # 3 interval, 4 chegara\n",
    "\n",
    "# Ma'lumotlarni binlarga ajratish\n",
    "categories = np.digitize(data, bins)\n",
    "\n",
    "# Natijani DataFrame sifatida ko‘rsatish\n",
    "df = pd.DataFrame({'Values': data, 'Bins': categories})\n",
    "print(df)\n"
   ]
  },
  {
   "cell_type": "markdown",
   "metadata": {},
   "source": [
    "#### 2️⃣ Equal-Frequency Binning (Bir xil sonli binlar)"
   ]
  },
  {
   "cell_type": "code",
   "execution_count": 2,
   "metadata": {},
   "outputs": [
    {
     "name": "stdout",
     "output_type": "stream",
     "text": [
      "   Values Equal-Freq Bins\n",
      "0       5             Low\n",
      "1      12             Low\n",
      "2      15             Low\n",
      "3      22          Medium\n",
      "4      24          Medium\n",
      "5      27          Medium\n",
      "6      35            High\n",
      "7      40            High\n",
      "8      50            High\n",
      "9      55            High\n"
     ]
    }
   ],
   "source": [
    "import pandas as pd\n",
    "\n",
    "df = pd.DataFrame({'Values': data})\n",
    "\n",
    "# 3 ta bin bilan qirqamiz\n",
    "df['Equal-Freq Bins'] = pd.qcut(df['Values'], q=3, labels=[\"Low\", \"Medium\", \"High\"])\n",
    "print(df)\n"
   ]
  },
  {
   "cell_type": "markdown",
   "metadata": {},
   "source": [
    "#### 3️⃣ Decision Tree Binning (Ma’lumotlarga mos keladigan binlar)"
   ]
  },
  {
   "cell_type": "code",
   "execution_count": 3,
   "metadata": {},
   "outputs": [
    {
     "name": "stdout",
     "output_type": "stream",
     "text": [
      "   Values  Labels  Tree-Based Bins\n",
      "0       5       0                1\n",
      "1      12       0                1\n",
      "2      15       0                1\n",
      "3      22       1                2\n",
      "4      24       1                2\n",
      "5      27       1                2\n",
      "6      35       1                2\n",
      "7      40       1                2\n",
      "8      50       1                2\n",
      "9      55       1                2\n"
     ]
    }
   ],
   "source": [
    "from sklearn.tree import DecisionTreeClassifier\n",
    "\n",
    "# DataFrame yaratamiz\n",
    "df = pd.DataFrame({'Values': data, 'Labels': [0, 0, 0, 1, 1, 1, 1, 1, 1, 1]})\n",
    "\n",
    "# Decision Tree bilan discretization\n",
    "tree = DecisionTreeClassifier(max_depth=2)\n",
    "tree.fit(df[['Values']], df['Labels'])\n",
    "\n",
    "# Har bir qiymat qaysi sinfga tegishli ekanligini topish\n",
    "df['Tree-Based Bins'] = tree.apply(df[['Values']])\n",
    "print(df)\n"
   ]
  },
  {
   "cell_type": "code",
   "execution_count": null,
   "metadata": {},
   "outputs": [],
   "source": [
    "# Discretization – uzluksiz ma’lumotlarni diskret sinflarga ajratish.\n",
    "# Binning – ma’lumotlarni kategoriya yoki intervallarga bo‘lish.\n",
    "#  Equal-Width – bir xil kenglikdagi binlar.\n",
    "# Equal-Frequency – har bir bin ichida teng miqdorda qiymatlar.\n",
    "#  Decision Tree Binning – optimal binlarni avtomatik tanlash."
   ]
  }
 ],
 "metadata": {
  "kernelspec": {
   "display_name": "Python 3",
   "language": "python",
   "name": "python3"
  },
  "language_info": {
   "codemirror_mode": {
    "name": "ipython",
    "version": 3
   },
   "file_extension": ".py",
   "mimetype": "text/x-python",
   "name": "python",
   "nbconvert_exporter": "python",
   "pygments_lexer": "ipython3",
   "version": "3.13.2"
  }
 },
 "nbformat": 4,
 "nbformat_minor": 2
}
