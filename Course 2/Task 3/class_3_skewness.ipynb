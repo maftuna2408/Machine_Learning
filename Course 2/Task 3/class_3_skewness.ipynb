{
 "cells": [
  {
   "cell_type": "markdown",
   "metadata": {},
   "source": [
    "### Skewness"
   ]
  },
  {
   "cell_type": "markdown",
   "metadata": {},
   "source": [
    "### 1️⃣ SciPy bilan hisoblash"
   ]
  },
  {
   "cell_type": "code",
   "execution_count": 4,
   "metadata": {},
   "outputs": [
    {
     "name": "stdout",
     "output_type": "stream",
     "text": [
      "Skewness: 2.1870161349262762\n"
     ]
    }
   ],
   "source": [
    "import numpy as np\n",
    "from scipy.stats import skew\n",
    "\n",
    "data = np.array([2, 3, 3, 4, 4, 4, 5, 6, 8, 20])  # O'ngga qiyshaygan\n",
    "skewness = skew(data)\n",
    "print(\"Skewness:\", skewness)\n"
   ]
  },
  {
   "cell_type": "markdown",
   "metadata": {},
   "source": [
    "### 2️⃣ Pandas bilan hisoblash"
   ]
  },
  {
   "cell_type": "markdown",
   "metadata": {},
   "source": [
    "### "
   ]
  },
  {
   "cell_type": "code",
   "execution_count": 5,
   "metadata": {},
   "outputs": [
    {
     "name": "stdout",
     "output_type": "stream",
     "text": [
      "Skewness: 2.5934820997144343\n"
     ]
    }
   ],
   "source": [
    "import pandas as pd\n",
    "\n",
    "df = pd.DataFrame({'values': [2, 3, 3, 4, 4, 4, 5, 6, 8, 20]})\n",
    "print(\"Skewness:\", df['values'].skew())\n"
   ]
  },
  {
   "cell_type": "markdown",
   "metadata": {},
   "source": [
    "### Skewness chegara misollarini kodda tekshirish"
   ]
  },
  {
   "cell_type": "code",
   "execution_count": 6,
   "metadata": {},
   "outputs": [
    {
     "name": "stdout",
     "output_type": "stream",
     "text": [
      "Normal Taqsimot Skewness: 0.030634601364122913\n",
      "Exponential Taqsimot Skewness: 1.9592196261881303\n",
      "Chi-Square Taqsimot Skewness: 1.6078159868384834\n",
      "Manfiy Exponential Skewness: -2.0970882796512926\n"
     ]
    }
   ],
   "source": [
    "import numpy as np\n",
    "import pandas as pd\n",
    "from scipy.stats import skew\n",
    "\n",
    "# Misol uchun ma'lumotlar\n",
    "data1 = np.random.normal(0, 1, 1000)  # Normal taqsimot (Skewness = 0 ga yaqin)\n",
    "data2 = np.random.exponential(1, 1000)  # Musbat skewness (o'ngga qiyshaygan)\n",
    "data3 = np.random.chisquare(2, 1000)  # Kuchli musbat skewness\n",
    "data4 = -np.random.exponential(1, 1000)  # Manfiy skewness (chapga qiyshaygan)\n",
    "\n",
    "# Skewnessni hisoblash\n",
    "print(\"Normal Taqsimot Skewness:\", skew(data1))\n",
    "print(\"Exponential Taqsimot Skewness:\", skew(data2))\n",
    "print(\"Chi-Square Taqsimot Skewness:\", skew(data3))\n",
    "print(\"Manfiy Exponential Skewness:\", skew(data4))\n"
   ]
  },
  {
   "cell_type": "markdown",
   "metadata": {},
   "source": [
    "### Skewnessni kamaytirish (Agar chegaradan tashqarida bo‘lsa)"
   ]
  },
  {
   "cell_type": "markdown",
   "metadata": {},
   "source": [
    "#### "
   ]
  },
  {
   "cell_type": "markdown",
   "metadata": {},
   "source": [
    "#### 1️⃣ Log Transform (O'ng dumni siqish)"
   ]
  },
  {
   "cell_type": "code",
   "execution_count": 7,
   "metadata": {},
   "outputs": [
    {
     "name": "stdout",
     "output_type": "stream",
     "text": [
      "1.5055092516865682\n"
     ]
    }
   ],
   "source": [
    "df['log_values'] = np.log(df['values'] + 1)\n",
    "print(df['log_values'].skew())\n"
   ]
  },
  {
   "cell_type": "markdown",
   "metadata": {},
   "source": [
    "#### 2️⃣ Square Root Transform (Yengilroq normalizatsiya)"
   ]
  },
  {
   "cell_type": "code",
   "execution_count": 8,
   "metadata": {},
   "outputs": [
    {
     "name": "stdout",
     "output_type": "stream",
     "text": [
      "2.0507197145784697\n"
     ]
    }
   ],
   "source": [
    "df['sqrt_values'] = np.sqrt(df['values'])\n",
    "print(df['sqrt_values'].skew())\n"
   ]
  },
  {
   "cell_type": "markdown",
   "metadata": {},
   "source": [
    "#### 3️⃣ Box-Cox Transform (Eng moslashuvchan usul, faqat musbat qiymatlar uchun)|"
   ]
  },
  {
   "cell_type": "code",
   "execution_count": 9,
   "metadata": {},
   "outputs": [
    {
     "name": "stdout",
     "output_type": "stream",
     "text": [
      "0.09873542410745229\n"
     ]
    }
   ],
   "source": [
    "from scipy.stats import boxcox\n",
    "df['boxcox_values'], _ = boxcox(df['values'] + 1)\n",
    "print(df['boxcox_values'].skew())\n"
   ]
  },
  {
   "cell_type": "code",
   "execution_count": null,
   "metadata": {},
   "outputs": [],
   "source": [
    "#  Skewness taqsimotning qanchalik qiyshayganligini o‘lchaydi.\n",
    "# 0 ga yaqin bo‘lsa, taqsimot normal.\n",
    "# ±1 dan oshsa, ma'lumotlar assimetrik bo‘lib, model yoki tahlil uchun transformatsiya qilish kerak bo‘lishi mumkin.\n",
    "# Transformatsiya usullari (log, sqrt, Box-Cox) skewnessni kamaytirishga yordam beradi."
   ]
  }
 ],
 "metadata": {
  "kernelspec": {
   "display_name": "Python 3",
   "language": "python",
   "name": "python3"
  },
  "language_info": {
   "codemirror_mode": {
    "name": "ipython",
    "version": 3
   },
   "file_extension": ".py",
   "mimetype": "text/x-python",
   "name": "python",
   "nbconvert_exporter": "python",
   "pygments_lexer": "ipython3",
   "version": "3.13.2"
  }
 },
 "nbformat": 4,
 "nbformat_minor": 2
}
